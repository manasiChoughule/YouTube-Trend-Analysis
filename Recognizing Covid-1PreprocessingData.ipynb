{
 "cells": [
  {
   "cell_type": "code",
   "execution_count": 148,
   "metadata": {},
   "outputs": [],
   "source": [
    "import numpy as np\n",
    "import pandas as pd\n",
    "import impyute as impy\n",
    "from matplotlib import pyplot as plt\n",
    "import seaborn as sns"
   ]
  },
  {
   "cell_type": "code",
   "execution_count": 149,
   "metadata": {},
   "outputs": [],
   "source": [
    "# Read dataset file USvideos.csv\n",
    "dataset = pd.read_csv(\"USvideos.csv\",header=0, na_values=\"?\")"
   ]
  },
  {
   "cell_type": "code",
   "execution_count": 150,
   "metadata": {},
   "outputs": [
    {
     "data": {
      "text/html": [
       "<div>\n",
       "<style scoped>\n",
       "    .dataframe tbody tr th:only-of-type {\n",
       "        vertical-align: middle;\n",
       "    }\n",
       "\n",
       "    .dataframe tbody tr th {\n",
       "        vertical-align: top;\n",
       "    }\n",
       "\n",
       "    .dataframe thead th {\n",
       "        text-align: right;\n",
       "    }\n",
       "</style>\n",
       "<table border=\"1\" class=\"dataframe\">\n",
       "  <thead>\n",
       "    <tr style=\"text-align: right;\">\n",
       "      <th></th>\n",
       "      <th>video_id</th>\n",
       "      <th>trending_date</th>\n",
       "      <th>title</th>\n",
       "      <th>channel_title</th>\n",
       "      <th>category_id</th>\n",
       "      <th>publish_time</th>\n",
       "      <th>tags</th>\n",
       "      <th>views</th>\n",
       "      <th>likes</th>\n",
       "      <th>dislikes</th>\n",
       "      <th>comment_count</th>\n",
       "      <th>thumbnail_link</th>\n",
       "      <th>comments_disabled</th>\n",
       "      <th>ratings_disabled</th>\n",
       "      <th>video_error_or_removed</th>\n",
       "      <th>description</th>\n",
       "    </tr>\n",
       "  </thead>\n",
       "  <tbody>\n",
       "    <tr>\n",
       "      <th>0</th>\n",
       "      <td>2kyS6SvSYSE</td>\n",
       "      <td>17.14.11</td>\n",
       "      <td>WE WANT TO TALK ABOUT OUR MARRIAGE</td>\n",
       "      <td>CaseyNeistat</td>\n",
       "      <td>22</td>\n",
       "      <td>2017-11-13T17:13:01.000Z</td>\n",
       "      <td>SHANtell martin</td>\n",
       "      <td>748374</td>\n",
       "      <td>57527</td>\n",
       "      <td>2966</td>\n",
       "      <td>15954</td>\n",
       "      <td>https://i.ytimg.com/vi/2kyS6SvSYSE/default.jpg</td>\n",
       "      <td>False</td>\n",
       "      <td>False</td>\n",
       "      <td>False</td>\n",
       "      <td>SHANTELL'S CHANNEL - https://www.youtube.com/s...</td>\n",
       "    </tr>\n",
       "    <tr>\n",
       "      <th>1</th>\n",
       "      <td>1ZAPwfrtAFY</td>\n",
       "      <td>17.14.11</td>\n",
       "      <td>The Trump Presidency: Last Week Tonight with J...</td>\n",
       "      <td>LastWeekTonight</td>\n",
       "      <td>24</td>\n",
       "      <td>2017-11-13T07:30:00.000Z</td>\n",
       "      <td>last week tonight trump presidency|\"last week ...</td>\n",
       "      <td>2418783</td>\n",
       "      <td>97185</td>\n",
       "      <td>6146</td>\n",
       "      <td>12703</td>\n",
       "      <td>https://i.ytimg.com/vi/1ZAPwfrtAFY/default.jpg</td>\n",
       "      <td>False</td>\n",
       "      <td>False</td>\n",
       "      <td>False</td>\n",
       "      <td>One year after the presidential election, John...</td>\n",
       "    </tr>\n",
       "    <tr>\n",
       "      <th>2</th>\n",
       "      <td>5qpjK5DgCt4</td>\n",
       "      <td>17.14.11</td>\n",
       "      <td>Racist Superman | Rudy Mancuso, King Bach &amp; Le...</td>\n",
       "      <td>Rudy Mancuso</td>\n",
       "      <td>23</td>\n",
       "      <td>2017-11-12T19:05:24.000Z</td>\n",
       "      <td>racist superman|\"rudy\"|\"mancuso\"|\"king\"|\"bach\"...</td>\n",
       "      <td>3191434</td>\n",
       "      <td>146033</td>\n",
       "      <td>5339</td>\n",
       "      <td>8181</td>\n",
       "      <td>https://i.ytimg.com/vi/5qpjK5DgCt4/default.jpg</td>\n",
       "      <td>False</td>\n",
       "      <td>False</td>\n",
       "      <td>False</td>\n",
       "      <td>WATCH MY PREVIOUS VIDEO ▶ \\n\\nSUBSCRIBE ► http...</td>\n",
       "    </tr>\n",
       "    <tr>\n",
       "      <th>3</th>\n",
       "      <td>puqaWrEC7tY</td>\n",
       "      <td>17.14.11</td>\n",
       "      <td>Nickelback Lyrics: Real or Fake?</td>\n",
       "      <td>Good Mythical Morning</td>\n",
       "      <td>24</td>\n",
       "      <td>2017-11-13T11:00:04.000Z</td>\n",
       "      <td>rhett and link|\"gmm\"|\"good mythical morning\"|\"...</td>\n",
       "      <td>343168</td>\n",
       "      <td>10172</td>\n",
       "      <td>666</td>\n",
       "      <td>2146</td>\n",
       "      <td>https://i.ytimg.com/vi/puqaWrEC7tY/default.jpg</td>\n",
       "      <td>False</td>\n",
       "      <td>False</td>\n",
       "      <td>False</td>\n",
       "      <td>Today we find out if Link is a Nickelback amat...</td>\n",
       "    </tr>\n",
       "    <tr>\n",
       "      <th>4</th>\n",
       "      <td>d380meD0W0M</td>\n",
       "      <td>17.14.11</td>\n",
       "      <td>I Dare You: GOING BALD!?</td>\n",
       "      <td>nigahiga</td>\n",
       "      <td>24</td>\n",
       "      <td>2017-11-12T18:01:41.000Z</td>\n",
       "      <td>ryan|\"higa\"|\"higatv\"|\"nigahiga\"|\"i dare you\"|\"...</td>\n",
       "      <td>2095731</td>\n",
       "      <td>132235</td>\n",
       "      <td>1989</td>\n",
       "      <td>17518</td>\n",
       "      <td>https://i.ytimg.com/vi/d380meD0W0M/default.jpg</td>\n",
       "      <td>False</td>\n",
       "      <td>False</td>\n",
       "      <td>False</td>\n",
       "      <td>I know it's been a while since we did this sho...</td>\n",
       "    </tr>\n",
       "    <tr>\n",
       "      <th>...</th>\n",
       "      <td>...</td>\n",
       "      <td>...</td>\n",
       "      <td>...</td>\n",
       "      <td>...</td>\n",
       "      <td>...</td>\n",
       "      <td>...</td>\n",
       "      <td>...</td>\n",
       "      <td>...</td>\n",
       "      <td>...</td>\n",
       "      <td>...</td>\n",
       "      <td>...</td>\n",
       "      <td>...</td>\n",
       "      <td>...</td>\n",
       "      <td>...</td>\n",
       "      <td>...</td>\n",
       "      <td>...</td>\n",
       "    </tr>\n",
       "    <tr>\n",
       "      <th>40944</th>\n",
       "      <td>BZt0qjTWNhw</td>\n",
       "      <td>18.14.06</td>\n",
       "      <td>The Cat Who Caught the Laser</td>\n",
       "      <td>AaronsAnimals</td>\n",
       "      <td>15</td>\n",
       "      <td>2018-05-18T13:00:04.000Z</td>\n",
       "      <td>aarons animals|\"aarons\"|\"animals\"|\"cat\"|\"cats\"...</td>\n",
       "      <td>1685609</td>\n",
       "      <td>38160</td>\n",
       "      <td>1385</td>\n",
       "      <td>2657</td>\n",
       "      <td>https://i.ytimg.com/vi/BZt0qjTWNhw/default.jpg</td>\n",
       "      <td>False</td>\n",
       "      <td>False</td>\n",
       "      <td>False</td>\n",
       "      <td>The Cat Who Caught the Laser - Aaron's Animals</td>\n",
       "    </tr>\n",
       "    <tr>\n",
       "      <th>40945</th>\n",
       "      <td>1h7KV2sjUWY</td>\n",
       "      <td>18.14.06</td>\n",
       "      <td>True Facts : Ant Mutualism</td>\n",
       "      <td>zefrank1</td>\n",
       "      <td>22</td>\n",
       "      <td>2018-05-18T01:00:06.000Z</td>\n",
       "      <td>[none]</td>\n",
       "      <td>1064798</td>\n",
       "      <td>60008</td>\n",
       "      <td>382</td>\n",
       "      <td>3936</td>\n",
       "      <td>https://i.ytimg.com/vi/1h7KV2sjUWY/default.jpg</td>\n",
       "      <td>False</td>\n",
       "      <td>False</td>\n",
       "      <td>False</td>\n",
       "      <td>NaN</td>\n",
       "    </tr>\n",
       "    <tr>\n",
       "      <th>40946</th>\n",
       "      <td>D6Oy4LfoqsU</td>\n",
       "      <td>18.14.06</td>\n",
       "      <td>I GAVE SAFIYA NYGAARD A PERFECT HAIR MAKEOVER ...</td>\n",
       "      <td>Brad Mondo</td>\n",
       "      <td>24</td>\n",
       "      <td>2018-05-18T17:34:22.000Z</td>\n",
       "      <td>I gave safiya nygaard a perfect hair makeover ...</td>\n",
       "      <td>1066451</td>\n",
       "      <td>48068</td>\n",
       "      <td>1032</td>\n",
       "      <td>3992</td>\n",
       "      <td>https://i.ytimg.com/vi/D6Oy4LfoqsU/default.jpg</td>\n",
       "      <td>False</td>\n",
       "      <td>False</td>\n",
       "      <td>False</td>\n",
       "      <td>I had so much fun transforming Safiyas hair in...</td>\n",
       "    </tr>\n",
       "    <tr>\n",
       "      <th>40947</th>\n",
       "      <td>oV0zkMe1K8s</td>\n",
       "      <td>18.14.06</td>\n",
       "      <td>How Black Panther Should Have Ended</td>\n",
       "      <td>How It Should Have Ended</td>\n",
       "      <td>1</td>\n",
       "      <td>2018-05-17T17:00:04.000Z</td>\n",
       "      <td>Black Panther|\"HISHE\"|\"Marvel\"|\"Infinity War\"|...</td>\n",
       "      <td>5660813</td>\n",
       "      <td>192957</td>\n",
       "      <td>2846</td>\n",
       "      <td>13088</td>\n",
       "      <td>https://i.ytimg.com/vi/oV0zkMe1K8s/default.jpg</td>\n",
       "      <td>False</td>\n",
       "      <td>False</td>\n",
       "      <td>False</td>\n",
       "      <td>How Black Panther Should Have EndedWatch More ...</td>\n",
       "    </tr>\n",
       "    <tr>\n",
       "      <th>40948</th>\n",
       "      <td>ooyjaVdt-jA</td>\n",
       "      <td>18.14.06</td>\n",
       "      <td>Official Call of Duty®: Black Ops 4 — Multipla...</td>\n",
       "      <td>Call of Duty</td>\n",
       "      <td>20</td>\n",
       "      <td>2018-05-17T17:09:38.000Z</td>\n",
       "      <td>call of duty|\"cod\"|\"activision\"|\"Black Ops 4\"</td>\n",
       "      <td>10306119</td>\n",
       "      <td>357079</td>\n",
       "      <td>212976</td>\n",
       "      <td>144795</td>\n",
       "      <td>https://i.ytimg.com/vi/ooyjaVdt-jA/default.jpg</td>\n",
       "      <td>False</td>\n",
       "      <td>False</td>\n",
       "      <td>False</td>\n",
       "      <td>Call of Duty: Black Ops 4 Multiplayer raises t...</td>\n",
       "    </tr>\n",
       "  </tbody>\n",
       "</table>\n",
       "<p>40949 rows × 16 columns</p>\n",
       "</div>"
      ],
      "text/plain": [
       "          video_id trending_date  \\\n",
       "0      2kyS6SvSYSE      17.14.11   \n",
       "1      1ZAPwfrtAFY      17.14.11   \n",
       "2      5qpjK5DgCt4      17.14.11   \n",
       "3      puqaWrEC7tY      17.14.11   \n",
       "4      d380meD0W0M      17.14.11   \n",
       "...            ...           ...   \n",
       "40944  BZt0qjTWNhw      18.14.06   \n",
       "40945  1h7KV2sjUWY      18.14.06   \n",
       "40946  D6Oy4LfoqsU      18.14.06   \n",
       "40947  oV0zkMe1K8s      18.14.06   \n",
       "40948  ooyjaVdt-jA      18.14.06   \n",
       "\n",
       "                                                   title  \\\n",
       "0                     WE WANT TO TALK ABOUT OUR MARRIAGE   \n",
       "1      The Trump Presidency: Last Week Tonight with J...   \n",
       "2      Racist Superman | Rudy Mancuso, King Bach & Le...   \n",
       "3                       Nickelback Lyrics: Real or Fake?   \n",
       "4                               I Dare You: GOING BALD!?   \n",
       "...                                                  ...   \n",
       "40944                       The Cat Who Caught the Laser   \n",
       "40945                         True Facts : Ant Mutualism   \n",
       "40946  I GAVE SAFIYA NYGAARD A PERFECT HAIR MAKEOVER ...   \n",
       "40947                How Black Panther Should Have Ended   \n",
       "40948  Official Call of Duty®: Black Ops 4 — Multipla...   \n",
       "\n",
       "                  channel_title  category_id              publish_time  \\\n",
       "0                  CaseyNeistat           22  2017-11-13T17:13:01.000Z   \n",
       "1               LastWeekTonight           24  2017-11-13T07:30:00.000Z   \n",
       "2                  Rudy Mancuso           23  2017-11-12T19:05:24.000Z   \n",
       "3         Good Mythical Morning           24  2017-11-13T11:00:04.000Z   \n",
       "4                      nigahiga           24  2017-11-12T18:01:41.000Z   \n",
       "...                         ...          ...                       ...   \n",
       "40944             AaronsAnimals           15  2018-05-18T13:00:04.000Z   \n",
       "40945                  zefrank1           22  2018-05-18T01:00:06.000Z   \n",
       "40946                Brad Mondo           24  2018-05-18T17:34:22.000Z   \n",
       "40947  How It Should Have Ended            1  2018-05-17T17:00:04.000Z   \n",
       "40948              Call of Duty           20  2018-05-17T17:09:38.000Z   \n",
       "\n",
       "                                                    tags     views   likes  \\\n",
       "0                                        SHANtell martin    748374   57527   \n",
       "1      last week tonight trump presidency|\"last week ...   2418783   97185   \n",
       "2      racist superman|\"rudy\"|\"mancuso\"|\"king\"|\"bach\"...   3191434  146033   \n",
       "3      rhett and link|\"gmm\"|\"good mythical morning\"|\"...    343168   10172   \n",
       "4      ryan|\"higa\"|\"higatv\"|\"nigahiga\"|\"i dare you\"|\"...   2095731  132235   \n",
       "...                                                  ...       ...     ...   \n",
       "40944  aarons animals|\"aarons\"|\"animals\"|\"cat\"|\"cats\"...   1685609   38160   \n",
       "40945                                             [none]   1064798   60008   \n",
       "40946  I gave safiya nygaard a perfect hair makeover ...   1066451   48068   \n",
       "40947  Black Panther|\"HISHE\"|\"Marvel\"|\"Infinity War\"|...   5660813  192957   \n",
       "40948      call of duty|\"cod\"|\"activision\"|\"Black Ops 4\"  10306119  357079   \n",
       "\n",
       "       dislikes  comment_count  \\\n",
       "0          2966          15954   \n",
       "1          6146          12703   \n",
       "2          5339           8181   \n",
       "3           666           2146   \n",
       "4          1989          17518   \n",
       "...         ...            ...   \n",
       "40944      1385           2657   \n",
       "40945       382           3936   \n",
       "40946      1032           3992   \n",
       "40947      2846          13088   \n",
       "40948    212976         144795   \n",
       "\n",
       "                                       thumbnail_link  comments_disabled  \\\n",
       "0      https://i.ytimg.com/vi/2kyS6SvSYSE/default.jpg              False   \n",
       "1      https://i.ytimg.com/vi/1ZAPwfrtAFY/default.jpg              False   \n",
       "2      https://i.ytimg.com/vi/5qpjK5DgCt4/default.jpg              False   \n",
       "3      https://i.ytimg.com/vi/puqaWrEC7tY/default.jpg              False   \n",
       "4      https://i.ytimg.com/vi/d380meD0W0M/default.jpg              False   \n",
       "...                                               ...                ...   \n",
       "40944  https://i.ytimg.com/vi/BZt0qjTWNhw/default.jpg              False   \n",
       "40945  https://i.ytimg.com/vi/1h7KV2sjUWY/default.jpg              False   \n",
       "40946  https://i.ytimg.com/vi/D6Oy4LfoqsU/default.jpg              False   \n",
       "40947  https://i.ytimg.com/vi/oV0zkMe1K8s/default.jpg              False   \n",
       "40948  https://i.ytimg.com/vi/ooyjaVdt-jA/default.jpg              False   \n",
       "\n",
       "       ratings_disabled  video_error_or_removed  \\\n",
       "0                 False                   False   \n",
       "1                 False                   False   \n",
       "2                 False                   False   \n",
       "3                 False                   False   \n",
       "4                 False                   False   \n",
       "...                 ...                     ...   \n",
       "40944             False                   False   \n",
       "40945             False                   False   \n",
       "40946             False                   False   \n",
       "40947             False                   False   \n",
       "40948             False                   False   \n",
       "\n",
       "                                             description  \n",
       "0      SHANTELL'S CHANNEL - https://www.youtube.com/s...  \n",
       "1      One year after the presidential election, John...  \n",
       "2      WATCH MY PREVIOUS VIDEO ▶ \\n\\nSUBSCRIBE ► http...  \n",
       "3      Today we find out if Link is a Nickelback amat...  \n",
       "4      I know it's been a while since we did this sho...  \n",
       "...                                                  ...  \n",
       "40944     The Cat Who Caught the Laser - Aaron's Animals  \n",
       "40945                                                NaN  \n",
       "40946  I had so much fun transforming Safiyas hair in...  \n",
       "40947  How Black Panther Should Have EndedWatch More ...  \n",
       "40948  Call of Duty: Black Ops 4 Multiplayer raises t...  \n",
       "\n",
       "[40949 rows x 16 columns]"
      ]
     },
     "execution_count": 150,
     "metadata": {},
     "output_type": "execute_result"
    }
   ],
   "source": [
    "# Replace null values \"?\" by numpy.NaN\n",
    "dataset.replace(\"?\", np.NaN)"
   ]
  },
  {
   "cell_type": "code",
   "execution_count": 151,
   "metadata": {},
   "outputs": [],
   "source": [
    "#removin trailing spaces\n",
    "dataset.columns = dataset.columns.str.strip()"
   ]
  },
  {
   "cell_type": "code",
   "execution_count": 152,
   "metadata": {},
   "outputs": [
    {
     "name": "stdout",
     "output_type": "stream",
     "text": [
      "True\n"
     ]
    },
    {
     "data": {
      "text/plain": [
       "(40949, 16)"
      ]
     },
     "execution_count": 152,
     "metadata": {},
     "output_type": "execute_result"
    }
   ],
   "source": [
    "#Check if there are duplicates. If so, remove them.\n",
    "isDuplicatePresent = dataset.duplicated().any()\n",
    "print(isDuplicatePresent)\n",
    "dataset.shape"
   ]
  },
  {
   "cell_type": "code",
   "execution_count": 153,
   "metadata": {},
   "outputs": [
    {
     "data": {
      "text/plain": [
       "(40901, 16)"
      ]
     },
     "execution_count": 153,
     "metadata": {},
     "output_type": "execute_result"
    }
   ],
   "source": [
    "if (isDuplicatePresent):\n",
    "    dataset = dataset.drop_duplicates()\n",
    "    \n",
    "dataset.shape ##48 duplicates entries were removed"
   ]
  },
  {
   "cell_type": "code",
   "execution_count": 154,
   "metadata": {},
   "outputs": [
    {
     "data": {
      "text/plain": [
       "video_id                    0\n",
       "trending_date               0\n",
       "title                       0\n",
       "channel_title               0\n",
       "category_id                 0\n",
       "publish_time                0\n",
       "tags                        0\n",
       "views                       0\n",
       "likes                       0\n",
       "dislikes                    0\n",
       "comment_count               0\n",
       "thumbnail_link              0\n",
       "comments_disabled           0\n",
       "ratings_disabled            0\n",
       "video_error_or_removed      0\n",
       "description               569\n",
       "dtype: int64"
      ]
     },
     "execution_count": 154,
     "metadata": {},
     "output_type": "execute_result"
    }
   ],
   "source": [
    "dataset.isnull().sum()\n"
   ]
  },
  {
   "cell_type": "code",
   "execution_count": 155,
   "metadata": {},
   "outputs": [],
   "source": [
    "#Dropping description column.\n",
    "del dataset['description']\n"
   ]
  },
  {
   "cell_type": "code",
   "execution_count": 156,
   "metadata": {},
   "outputs": [
    {
     "data": {
      "text/plain": [
       "(40901, 15)"
      ]
     },
     "execution_count": 156,
     "metadata": {},
     "output_type": "execute_result"
    }
   ],
   "source": [
    "dataset.shape"
   ]
  },
  {
   "cell_type": "code",
   "execution_count": 157,
   "metadata": {},
   "outputs": [
    {
     "data": {
      "text/plain": [
       "{'whiskers': [<matplotlib.lines.Line2D at 0x1fc6ac55d90>,\n",
       "  <matplotlib.lines.Line2D at 0x1fc6ac61130>],\n",
       " 'caps': [<matplotlib.lines.Line2D at 0x1fc6ac61490>,\n",
       "  <matplotlib.lines.Line2D at 0x1fc6ac617f0>],\n",
       " 'boxes': [<matplotlib.lines.Line2D at 0x1fc6ac55a30>],\n",
       " 'medians': [<matplotlib.lines.Line2D at 0x1fc6ac61b50>],\n",
       " 'fliers': [<matplotlib.lines.Line2D at 0x1fc6ac61eb0>],\n",
       " 'means': []}"
      ]
     },
     "execution_count": 157,
     "metadata": {},
     "output_type": "execute_result"
    },
    {
     "data": {
      "image/png": "[encoded data removed]",
      "text/plain": [
       "<Figure size 432x288 with 1 Axes>"
      ]
     },
     "metadata": {
      "needs_background": "light"
     },
     "output_type": "display_data"
    }
   ],
   "source": [
    "plt.boxplot((dataset.views))"
   ]
  },
  {
   "cell_type": "code",
   "execution_count": 158,
   "metadata": {},
   "outputs": [
    {
     "data": {
      "text/plain": [
       "{'whiskers': [<matplotlib.lines.Line2D at 0x1fc6aee5f10>,\n",
       "  <matplotlib.lines.Line2D at 0x1fc6aef22b0>],\n",
       " 'caps': [<matplotlib.lines.Line2D at 0x1fc6aef2610>,\n",
       "  <matplotlib.lines.Line2D at 0x1fc6aef2970>],\n",
       " 'boxes': [<matplotlib.lines.Line2D at 0x1fc6aee5bb0>],\n",
       " 'medians': [<matplotlib.lines.Line2D at 0x1fc6aef2cd0>],\n",
       " 'fliers': [<matplotlib.lines.Line2D at 0x1fc6aefd070>],\n",
       " 'means': []}"
      ]
     },
     "execution_count": 158,
     "metadata": {},
     "output_type": "execute_result"
    },
    {
     "data": {
      "image/png": "[encoded data removed]",
      "text/plain": [
       "<Figure size 432x288 with 1 Axes>"
      ]
     },
     "metadata": {
      "needs_background": "light"
     },
     "output_type": "display_data"
    }
   ],
   "source": [
    "\n",
    "plt.boxplot((dataset.likes))"
   ]
  },
  {
   "cell_type": "code",
   "execution_count": 159,
   "metadata": {},
   "outputs": [
    {
     "data": {
      "text/plain": [
       "{'whiskers': [<matplotlib.lines.Line2D at 0x1fc6cef65e0>,\n",
       "  <matplotlib.lines.Line2D at 0x1fc6cef6940>],\n",
       " 'caps': [<matplotlib.lines.Line2D at 0x1fc6cef6ca0>,\n",
       "  <matplotlib.lines.Line2D at 0x1fc6cf00040>],\n",
       " 'boxes': [<matplotlib.lines.Line2D at 0x1fc6cef6280>],\n",
       " 'medians': [<matplotlib.lines.Line2D at 0x1fc6cf003a0>],\n",
       " 'fliers': [<matplotlib.lines.Line2D at 0x1fc6cf00700>],\n",
       " 'means': []}"
      ]
     },
     "execution_count": 159,
     "metadata": {},
     "output_type": "execute_result"
    },
    {
     "data": {
      "image/png": "[encoded data removed]",
      "text/plain": [
       "<Figure size 432x288 with 1 Axes>"
      ]
     },
     "metadata": {
      "needs_background": "light"
     },
     "output_type": "display_data"
    }
   ],
   "source": [
    "\n",
    "plt.boxplot((dataset.dislikes))"
   ]
  },
  {
   "cell_type": "code",
   "execution_count": 160,
   "metadata": {},
   "outputs": [
    {
     "data": {
      "text/plain": [
       "<AxesSubplot:xlabel='views'>"
      ]
     },
     "execution_count": 160,
     "metadata": {},
     "output_type": "execute_result"
    },
    {
     "data": {
      "image/png": "[encoded data removed]",
      "text/plain": [
       "<Figure size 432x288 with 1 Axes>"
      ]
     },
     "metadata": {
      "needs_background": "light"
     },
     "output_type": "display_data"
    }
   ],
   "source": [
    "sns.boxplot(x=dataset['views'])"
   ]
  },
  {
   "cell_type": "code",
   "execution_count": 161,
   "metadata": {},
   "outputs": [
    {
     "data": {
      "text/plain": [
       "<AxesSubplot:>"
      ]
     },
     "execution_count": 161,
     "metadata": {},
     "output_type": "execute_result"
    },
    {
     "data": {
      "image/png": "[encoded data removed]",
      "text/plain": [
       "<Figure size 720x432 with 1 Axes>"
      ]
     },
     "metadata": {
      "needs_background": "light"
     },
     "output_type": "display_data"
    }
   ],
   "source": [
    "dataset.boxplot(figsize = (10, 6))"
   ]
  },
  {
   "cell_type": "code",
   "execution_count": 162,
   "metadata": {},
   "outputs": [
    {
     "data": {
      "text/plain": [
       "<AxesSubplot:>"
      ]
     },
     "execution_count": 162,
     "metadata": {},
     "output_type": "execute_result"
    },
    {
     "data": {
      "image/png": "[encoded data removed]",
      "text/plain": [
       "<Figure size 720x432 with 1 Axes>"
      ]
     },
     "metadata": {
      "needs_background": "light"
     },
     "output_type": "display_data"
    }
   ],
   "source": [
    "dataset[['views','likes','dislikes','comment_count']].boxplot(figsize = (10, 6))"
   ]
  },
  {
   "cell_type": "code",
   "execution_count": null,
   "metadata": {},
   "outputs": [],
   "source": [
    "\n"
   ]
  },
  {
   "cell_type": "code",
   "execution_count": 163,
   "metadata": {},
   "outputs": [
    {
     "data": {
      "text/plain": [
       "(241972.0, 1821926.0)"
      ]
     },
     "execution_count": 163,
     "metadata": {},
     "output_type": "execute_result"
    }
   ],
   "source": [
    "Q1 =dataset.views.quantile(0.25)\n",
    "Q3 =dataset.views.quantile(0.75)\n",
    "Q1,Q3"
   ]
  },
  {
   "cell_type": "code",
   "execution_count": 164,
   "metadata": {},
   "outputs": [
    {
     "data": {
      "text/plain": [
       "1579954.0"
      ]
     },
     "execution_count": 164,
     "metadata": {},
     "output_type": "execute_result"
    }
   ],
   "source": [
    "IQR=Q3-Q1\n",
    "IQR"
   ]
  },
  {
   "cell_type": "code",
   "execution_count": 165,
   "metadata": {},
   "outputs": [
    {
     "data": {
      "text/plain": [
       "(-2127959.0, 4191857.0)"
      ]
     },
     "execution_count": 165,
     "metadata": {},
     "output_type": "execute_result"
    }
   ],
   "source": [
    "LM =Q1 - 1.5*IQR\n",
    "UM =Q3 + 1.5*IQR\n",
    "LM,UM"
   ]
  },
  {
   "cell_type": "code",
   "execution_count": 166,
   "metadata": {},
   "outputs": [],
   "source": [
    "dataset=dataset[(dataset.views>LM)&(dataset.views<UM)]"
   ]
  },
  {
   "cell_type": "code",
   "execution_count": 167,
   "metadata": {},
   "outputs": [
    {
     "data": {
      "text/plain": [
       "<AxesSubplot:>"
      ]
     },
     "execution_count": 167,
     "metadata": {},
     "output_type": "execute_result"
    },
    {
     "data": {
      "image/png": "[encoded data removed]",
      "text/plain": [
       "<Figure size 720x432 with 1 Axes>"
      ]
     },
     "metadata": {
      "needs_background": "light"
     },
     "output_type": "display_data"
    }
   ],
   "source": [
    "dataset[['views']].boxplot(figsize = (10, 6))"
   ]
  },
  {
   "cell_type": "code",
   "execution_count": 168,
   "metadata": {},
   "outputs": [
    {
     "data": {
      "text/plain": [
       "<AxesSubplot:>"
      ]
     },
     "execution_count": 168,
     "metadata": {},
     "output_type": "execute_result"
    },
    {
     "data": {
      "image/png": "[encoded data removed]",
      "text/plain": [
       "<Figure size 720x432 with 1 Axes>"
      ]
     },
     "metadata": {
      "needs_background": "light"
     },
     "output_type": "display_data"
    }
   ],
   "source": [
    "#iternation 2\n",
    "Q1 =dataset.views.quantile(0.25)\n",
    "Q3 =dataset.views.quantile(0.75)\n",
    "Q1,Q3\n",
    "IQR=Q3-Q1\n",
    "IQR\n",
    "LM =Q1 - 1.5*IQR\n",
    "UM =Q3 + 1.5*IQR\n",
    "LM,UM\n",
    "dataset=dataset[(dataset.views>LM)&(dataset.views<UM)]\n",
    "dataset[['views']].boxplot(figsize = (10, 6))"
   ]
  },
  {
   "cell_type": "code",
   "execution_count": 169,
   "metadata": {},
   "outputs": [
    {
     "data": {
      "text/plain": [
       "<AxesSubplot:>"
      ]
     },
     "execution_count": 169,
     "metadata": {},
     "output_type": "execute_result"
    },
    {
     "data": {
      "image/png": "[encoded data removed]",
      "text/plain": [
       "<Figure size 720x432 with 1 Axes>"
      ]
     },
     "metadata": {
      "needs_background": "light"
     },
     "output_type": "display_data"
    }
   ],
   "source": [
    "#iternation 3\n",
    "Q1 =dataset.views.quantile(0.25)\n",
    "Q3 =dataset.views.quantile(0.75)\n",
    "Q1,Q3\n",
    "IQR=Q3-Q1\n",
    "IQR\n",
    "LM =Q1 - 1.5*IQR\n",
    "UM =Q3 + 1.5*IQR\n",
    "LM,UM\n",
    "dataset=dataset[(dataset.views>LM)&(dataset.views<UM)]\n",
    "dataset[['views']].boxplot(figsize = (10, 6))"
   ]
  },
  {
   "cell_type": "code",
   "execution_count": 170,
   "metadata": {},
   "outputs": [
    {
     "data": {
      "text/html": [
       "<div>\n",
       "<style scoped>\n",
       "    .dataframe tbody tr th:only-of-type {\n",
       "        vertical-align: middle;\n",
       "    }\n",
       "\n",
       "    .dataframe tbody tr th {\n",
       "        vertical-align: top;\n",
       "    }\n",
       "\n",
       "    .dataframe thead th {\n",
       "        text-align: right;\n",
       "    }\n",
       "</style>\n",
       "<table border=\"1\" class=\"dataframe\">\n",
       "  <thead>\n",
       "    <tr style=\"text-align: right;\">\n",
       "      <th></th>\n",
       "      <th>video_id</th>\n",
       "      <th>trending_date</th>\n",
       "      <th>title</th>\n",
       "      <th>channel_title</th>\n",
       "      <th>category_id</th>\n",
       "      <th>publish_time</th>\n",
       "      <th>tags</th>\n",
       "      <th>views</th>\n",
       "      <th>likes</th>\n",
       "      <th>dislikes</th>\n",
       "      <th>comment_count</th>\n",
       "      <th>thumbnail_link</th>\n",
       "      <th>comments_disabled</th>\n",
       "      <th>ratings_disabled</th>\n",
       "      <th>video_error_or_removed</th>\n",
       "    </tr>\n",
       "  </thead>\n",
       "  <tbody>\n",
       "    <tr>\n",
       "      <th>0</th>\n",
       "      <td>2kyS6SvSYSE</td>\n",
       "      <td>17.14.11</td>\n",
       "      <td>WE WANT TO TALK ABOUT OUR MARRIAGE</td>\n",
       "      <td>CaseyNeistat</td>\n",
       "      <td>22</td>\n",
       "      <td>2017-11-13T17:13:01.000Z</td>\n",
       "      <td>SHANtell martin</td>\n",
       "      <td>748374</td>\n",
       "      <td>57527</td>\n",
       "      <td>2966</td>\n",
       "      <td>15954</td>\n",
       "      <td>https://i.ytimg.com/vi/2kyS6SvSYSE/default.jpg</td>\n",
       "      <td>False</td>\n",
       "      <td>False</td>\n",
       "      <td>False</td>\n",
       "    </tr>\n",
       "    <tr>\n",
       "      <th>3</th>\n",
       "      <td>puqaWrEC7tY</td>\n",
       "      <td>17.14.11</td>\n",
       "      <td>Nickelback Lyrics: Real or Fake?</td>\n",
       "      <td>Good Mythical Morning</td>\n",
       "      <td>24</td>\n",
       "      <td>2017-11-13T11:00:04.000Z</td>\n",
       "      <td>rhett and link|\"gmm\"|\"good mythical morning\"|\"...</td>\n",
       "      <td>343168</td>\n",
       "      <td>10172</td>\n",
       "      <td>666</td>\n",
       "      <td>2146</td>\n",
       "      <td>https://i.ytimg.com/vi/puqaWrEC7tY/default.jpg</td>\n",
       "      <td>False</td>\n",
       "      <td>False</td>\n",
       "      <td>False</td>\n",
       "    </tr>\n",
       "    <tr>\n",
       "      <th>4</th>\n",
       "      <td>d380meD0W0M</td>\n",
       "      <td>17.14.11</td>\n",
       "      <td>I Dare You: GOING BALD!?</td>\n",
       "      <td>nigahiga</td>\n",
       "      <td>24</td>\n",
       "      <td>2017-11-12T18:01:41.000Z</td>\n",
       "      <td>ryan|\"higa\"|\"higatv\"|\"nigahiga\"|\"i dare you\"|\"...</td>\n",
       "      <td>2095731</td>\n",
       "      <td>132235</td>\n",
       "      <td>1989</td>\n",
       "      <td>17518</td>\n",
       "      <td>https://i.ytimg.com/vi/d380meD0W0M/default.jpg</td>\n",
       "      <td>False</td>\n",
       "      <td>False</td>\n",
       "      <td>False</td>\n",
       "    </tr>\n",
       "    <tr>\n",
       "      <th>5</th>\n",
       "      <td>gHZ1Qz0KiKM</td>\n",
       "      <td>17.14.11</td>\n",
       "      <td>2 Weeks with iPhone X</td>\n",
       "      <td>iJustine</td>\n",
       "      <td>28</td>\n",
       "      <td>2017-11-13T19:07:23.000Z</td>\n",
       "      <td>ijustine|\"week with iPhone X\"|\"iphone x\"|\"appl...</td>\n",
       "      <td>119180</td>\n",
       "      <td>9763</td>\n",
       "      <td>511</td>\n",
       "      <td>1434</td>\n",
       "      <td>https://i.ytimg.com/vi/gHZ1Qz0KiKM/default.jpg</td>\n",
       "      <td>False</td>\n",
       "      <td>False</td>\n",
       "      <td>False</td>\n",
       "    </tr>\n",
       "    <tr>\n",
       "      <th>6</th>\n",
       "      <td>39idVpFF7NQ</td>\n",
       "      <td>17.14.11</td>\n",
       "      <td>Roy Moore &amp; Jeff Sessions Cold Open - SNL</td>\n",
       "      <td>Saturday Night Live</td>\n",
       "      <td>24</td>\n",
       "      <td>2017-11-12T05:37:17.000Z</td>\n",
       "      <td>SNL|\"Saturday Night Live\"|\"SNL Season 43\"|\"Epi...</td>\n",
       "      <td>2103417</td>\n",
       "      <td>15993</td>\n",
       "      <td>2445</td>\n",
       "      <td>1970</td>\n",
       "      <td>https://i.ytimg.com/vi/39idVpFF7NQ/default.jpg</td>\n",
       "      <td>False</td>\n",
       "      <td>False</td>\n",
       "      <td>False</td>\n",
       "    </tr>\n",
       "    <tr>\n",
       "      <th>...</th>\n",
       "      <td>...</td>\n",
       "      <td>...</td>\n",
       "      <td>...</td>\n",
       "      <td>...</td>\n",
       "      <td>...</td>\n",
       "      <td>...</td>\n",
       "      <td>...</td>\n",
       "      <td>...</td>\n",
       "      <td>...</td>\n",
       "      <td>...</td>\n",
       "      <td>...</td>\n",
       "      <td>...</td>\n",
       "      <td>...</td>\n",
       "      <td>...</td>\n",
       "      <td>...</td>\n",
       "    </tr>\n",
       "    <tr>\n",
       "      <th>40932</th>\n",
       "      <td>tiF9SzzzX_o</td>\n",
       "      <td>18.14.06</td>\n",
       "      <td>The Voice 2018 Brynn Cartelli - Finale: Skyfall</td>\n",
       "      <td>The Voice</td>\n",
       "      <td>24</td>\n",
       "      <td>2018-05-22T02:34:39.000Z</td>\n",
       "      <td>the voice season 14|\"the voice finale performa...</td>\n",
       "      <td>1437051</td>\n",
       "      <td>19930</td>\n",
       "      <td>1794</td>\n",
       "      <td>1671</td>\n",
       "      <td>https://i.ytimg.com/vi/tiF9SzzzX_o/default.jpg</td>\n",
       "      <td>False</td>\n",
       "      <td>False</td>\n",
       "      <td>False</td>\n",
       "    </tr>\n",
       "    <tr>\n",
       "      <th>40933</th>\n",
       "      <td>Gs26bZTRkdU</td>\n",
       "      <td>18.14.06</td>\n",
       "      <td>8 Survival Myths That Will Definitely Make Thi...</td>\n",
       "      <td>SciShow</td>\n",
       "      <td>27</td>\n",
       "      <td>2018-05-20T21:00:00.000Z</td>\n",
       "      <td>SciShow|\"science\"|\"Hank\"|\"Green\"|\"education\"|\"...</td>\n",
       "      <td>979732</td>\n",
       "      <td>29038</td>\n",
       "      <td>1121</td>\n",
       "      <td>2584</td>\n",
       "      <td>https://i.ytimg.com/vi/Gs26bZTRkdU/default.jpg</td>\n",
       "      <td>False</td>\n",
       "      <td>False</td>\n",
       "      <td>False</td>\n",
       "    </tr>\n",
       "    <tr>\n",
       "      <th>40944</th>\n",
       "      <td>BZt0qjTWNhw</td>\n",
       "      <td>18.14.06</td>\n",
       "      <td>The Cat Who Caught the Laser</td>\n",
       "      <td>AaronsAnimals</td>\n",
       "      <td>15</td>\n",
       "      <td>2018-05-18T13:00:04.000Z</td>\n",
       "      <td>aarons animals|\"aarons\"|\"animals\"|\"cat\"|\"cats\"...</td>\n",
       "      <td>1685609</td>\n",
       "      <td>38160</td>\n",
       "      <td>1385</td>\n",
       "      <td>2657</td>\n",
       "      <td>https://i.ytimg.com/vi/BZt0qjTWNhw/default.jpg</td>\n",
       "      <td>False</td>\n",
       "      <td>False</td>\n",
       "      <td>False</td>\n",
       "    </tr>\n",
       "    <tr>\n",
       "      <th>40945</th>\n",
       "      <td>1h7KV2sjUWY</td>\n",
       "      <td>18.14.06</td>\n",
       "      <td>True Facts : Ant Mutualism</td>\n",
       "      <td>zefrank1</td>\n",
       "      <td>22</td>\n",
       "      <td>2018-05-18T01:00:06.000Z</td>\n",
       "      <td>[none]</td>\n",
       "      <td>1064798</td>\n",
       "      <td>60008</td>\n",
       "      <td>382</td>\n",
       "      <td>3936</td>\n",
       "      <td>https://i.ytimg.com/vi/1h7KV2sjUWY/default.jpg</td>\n",
       "      <td>False</td>\n",
       "      <td>False</td>\n",
       "      <td>False</td>\n",
       "    </tr>\n",
       "    <tr>\n",
       "      <th>40946</th>\n",
       "      <td>D6Oy4LfoqsU</td>\n",
       "      <td>18.14.06</td>\n",
       "      <td>I GAVE SAFIYA NYGAARD A PERFECT HAIR MAKEOVER ...</td>\n",
       "      <td>Brad Mondo</td>\n",
       "      <td>24</td>\n",
       "      <td>2018-05-18T17:34:22.000Z</td>\n",
       "      <td>I gave safiya nygaard a perfect hair makeover ...</td>\n",
       "      <td>1066451</td>\n",
       "      <td>48068</td>\n",
       "      <td>1032</td>\n",
       "      <td>3992</td>\n",
       "      <td>https://i.ytimg.com/vi/D6Oy4LfoqsU/default.jpg</td>\n",
       "      <td>False</td>\n",
       "      <td>False</td>\n",
       "      <td>False</td>\n",
       "    </tr>\n",
       "  </tbody>\n",
       "</table>\n",
       "<p>32496 rows × 15 columns</p>\n",
       "</div>"
      ],
      "text/plain": [
       "          video_id trending_date  \\\n",
       "0      2kyS6SvSYSE      17.14.11   \n",
       "3      puqaWrEC7tY      17.14.11   \n",
       "4      d380meD0W0M      17.14.11   \n",
       "5      gHZ1Qz0KiKM      17.14.11   \n",
       "6      39idVpFF7NQ      17.14.11   \n",
       "...            ...           ...   \n",
       "40932  tiF9SzzzX_o      18.14.06   \n",
       "40933  Gs26bZTRkdU      18.14.06   \n",
       "40944  BZt0qjTWNhw      18.14.06   \n",
       "40945  1h7KV2sjUWY      18.14.06   \n",
       "40946  D6Oy4LfoqsU      18.14.06   \n",
       "\n",
       "                                                   title  \\\n",
       "0                     WE WANT TO TALK ABOUT OUR MARRIAGE   \n",
       "3                       Nickelback Lyrics: Real or Fake?   \n",
       "4                               I Dare You: GOING BALD!?   \n",
       "5                                  2 Weeks with iPhone X   \n",
       "6              Roy Moore & Jeff Sessions Cold Open - SNL   \n",
       "...                                                  ...   \n",
       "40932    The Voice 2018 Brynn Cartelli - Finale: Skyfall   \n",
       "40933  8 Survival Myths That Will Definitely Make Thi...   \n",
       "40944                       The Cat Who Caught the Laser   \n",
       "40945                         True Facts : Ant Mutualism   \n",
       "40946  I GAVE SAFIYA NYGAARD A PERFECT HAIR MAKEOVER ...   \n",
       "\n",
       "               channel_title  category_id              publish_time  \\\n",
       "0               CaseyNeistat           22  2017-11-13T17:13:01.000Z   \n",
       "3      Good Mythical Morning           24  2017-11-13T11:00:04.000Z   \n",
       "4                   nigahiga           24  2017-11-12T18:01:41.000Z   \n",
       "5                   iJustine           28  2017-11-13T19:07:23.000Z   \n",
       "6        Saturday Night Live           24  2017-11-12T05:37:17.000Z   \n",
       "...                      ...          ...                       ...   \n",
       "40932              The Voice           24  2018-05-22T02:34:39.000Z   \n",
       "40933                SciShow           27  2018-05-20T21:00:00.000Z   \n",
       "40944          AaronsAnimals           15  2018-05-18T13:00:04.000Z   \n",
       "40945               zefrank1           22  2018-05-18T01:00:06.000Z   \n",
       "40946             Brad Mondo           24  2018-05-18T17:34:22.000Z   \n",
       "\n",
       "                                                    tags    views   likes  \\\n",
       "0                                        SHANtell martin   748374   57527   \n",
       "3      rhett and link|\"gmm\"|\"good mythical morning\"|\"...   343168   10172   \n",
       "4      ryan|\"higa\"|\"higatv\"|\"nigahiga\"|\"i dare you\"|\"...  2095731  132235   \n",
       "5      ijustine|\"week with iPhone X\"|\"iphone x\"|\"appl...   119180    9763   \n",
       "6      SNL|\"Saturday Night Live\"|\"SNL Season 43\"|\"Epi...  2103417   15993   \n",
       "...                                                  ...      ...     ...   \n",
       "40932  the voice season 14|\"the voice finale performa...  1437051   19930   \n",
       "40933  SciShow|\"science\"|\"Hank\"|\"Green\"|\"education\"|\"...   979732   29038   \n",
       "40944  aarons animals|\"aarons\"|\"animals\"|\"cat\"|\"cats\"...  1685609   38160   \n",
       "40945                                             [none]  1064798   60008   \n",
       "40946  I gave safiya nygaard a perfect hair makeover ...  1066451   48068   \n",
       "\n",
       "       dislikes  comment_count  \\\n",
       "0          2966          15954   \n",
       "3           666           2146   \n",
       "4          1989          17518   \n",
       "5           511           1434   \n",
       "6          2445           1970   \n",
       "...         ...            ...   \n",
       "40932      1794           1671   \n",
       "40933      1121           2584   \n",
       "40944      1385           2657   \n",
       "40945       382           3936   \n",
       "40946      1032           3992   \n",
       "\n",
       "                                       thumbnail_link  comments_disabled  \\\n",
       "0      https://i.ytimg.com/vi/2kyS6SvSYSE/default.jpg              False   \n",
       "3      https://i.ytimg.com/vi/puqaWrEC7tY/default.jpg              False   \n",
       "4      https://i.ytimg.com/vi/d380meD0W0M/default.jpg              False   \n",
       "5      https://i.ytimg.com/vi/gHZ1Qz0KiKM/default.jpg              False   \n",
       "6      https://i.ytimg.com/vi/39idVpFF7NQ/default.jpg              False   \n",
       "...                                               ...                ...   \n",
       "40932  https://i.ytimg.com/vi/tiF9SzzzX_o/default.jpg              False   \n",
       "40933  https://i.ytimg.com/vi/Gs26bZTRkdU/default.jpg              False   \n",
       "40944  https://i.ytimg.com/vi/BZt0qjTWNhw/default.jpg              False   \n",
       "40945  https://i.ytimg.com/vi/1h7KV2sjUWY/default.jpg              False   \n",
       "40946  https://i.ytimg.com/vi/D6Oy4LfoqsU/default.jpg              False   \n",
       "\n",
       "       ratings_disabled  video_error_or_removed  \n",
       "0                 False                   False  \n",
       "3                 False                   False  \n",
       "4                 False                   False  \n",
       "5                 False                   False  \n",
       "6                 False                   False  \n",
       "...                 ...                     ...  \n",
       "40932             False                   False  \n",
       "40933             False                   False  \n",
       "40944             False                   False  \n",
       "40945             False                   False  \n",
       "40946             False                   False  \n",
       "\n",
       "[32496 rows x 15 columns]"
      ]
     },
     "execution_count": 170,
     "metadata": {},
     "output_type": "execute_result"
    },
    {
     "data": {
      "image/png": "[encoded data removed]",
      "text/plain": [
       "<Figure size 720x432 with 1 Axes>"
      ]
     },
     "metadata": {
      "needs_background": "light"
     },
     "output_type": "display_data"
    }
   ],
   "source": [
    "#iternation 4\n",
    "Q1 =dataset.views.quantile(0.25)\n",
    "Q3 =dataset.views.quantile(0.75)\n",
    "Q1,Q3\n",
    "IQR=Q3-Q1\n",
    "IQR\n",
    "LM =Q1 - 1.5*IQR\n",
    "UM =Q3 + 1.5*IQR\n",
    "LM,UM\n",
    "dataset=dataset[(dataset.views>LM)&(dataset.views<UM)]\n",
    "dataset[['views']].boxplot(figsize = (10, 6))\n",
    "dataset"
   ]
  },
  {
   "cell_type": "code",
   "execution_count": 171,
   "metadata": {
    "scrolled": true
   },
   "outputs": [
    {
     "data": {
      "text/html": [
       "<div>\n",
       "<style scoped>\n",
       "    .dataframe tbody tr th:only-of-type {\n",
       "        vertical-align: middle;\n",
       "    }\n",
       "\n",
       "    .dataframe tbody tr th {\n",
       "        vertical-align: top;\n",
       "    }\n",
       "\n",
       "    .dataframe thead th {\n",
       "        text-align: right;\n",
       "    }\n",
       "</style>\n",
       "<table border=\"1\" class=\"dataframe\">\n",
       "  <thead>\n",
       "    <tr style=\"text-align: right;\">\n",
       "      <th></th>\n",
       "      <th>video_id</th>\n",
       "      <th>trending_date</th>\n",
       "      <th>title</th>\n",
       "      <th>channel_title</th>\n",
       "      <th>category_id</th>\n",
       "      <th>publish_time</th>\n",
       "      <th>tags</th>\n",
       "      <th>views</th>\n",
       "      <th>likes</th>\n",
       "      <th>dislikes</th>\n",
       "      <th>comment_count</th>\n",
       "      <th>thumbnail_link</th>\n",
       "      <th>comments_disabled</th>\n",
       "      <th>ratings_disabled</th>\n",
       "      <th>video_error_or_removed</th>\n",
       "    </tr>\n",
       "  </thead>\n",
       "  <tbody>\n",
       "    <tr>\n",
       "      <th>0</th>\n",
       "      <td>2kyS6SvSYSE</td>\n",
       "      <td>17.14.11</td>\n",
       "      <td>WE WANT TO TALK ABOUT OUR MARRIAGE</td>\n",
       "      <td>CaseyNeistat</td>\n",
       "      <td>22</td>\n",
       "      <td>2017-11-13T17:13:01.000Z</td>\n",
       "      <td>SHANtell martin</td>\n",
       "      <td>748374</td>\n",
       "      <td>57527</td>\n",
       "      <td>2966</td>\n",
       "      <td>15954</td>\n",
       "      <td>https://i.ytimg.com/vi/2kyS6SvSYSE/default.jpg</td>\n",
       "      <td>False</td>\n",
       "      <td>False</td>\n",
       "      <td>False</td>\n",
       "    </tr>\n",
       "    <tr>\n",
       "      <th>3</th>\n",
       "      <td>puqaWrEC7tY</td>\n",
       "      <td>17.14.11</td>\n",
       "      <td>Nickelback Lyrics: Real or Fake?</td>\n",
       "      <td>Good Mythical Morning</td>\n",
       "      <td>24</td>\n",
       "      <td>2017-11-13T11:00:04.000Z</td>\n",
       "      <td>rhett and link|\"gmm\"|\"good mythical morning\"|\"...</td>\n",
       "      <td>343168</td>\n",
       "      <td>10172</td>\n",
       "      <td>666</td>\n",
       "      <td>2146</td>\n",
       "      <td>https://i.ytimg.com/vi/puqaWrEC7tY/default.jpg</td>\n",
       "      <td>False</td>\n",
       "      <td>False</td>\n",
       "      <td>False</td>\n",
       "    </tr>\n",
       "    <tr>\n",
       "      <th>4</th>\n",
       "      <td>d380meD0W0M</td>\n",
       "      <td>17.14.11</td>\n",
       "      <td>I Dare You: GOING BALD!?</td>\n",
       "      <td>nigahiga</td>\n",
       "      <td>24</td>\n",
       "      <td>2017-11-12T18:01:41.000Z</td>\n",
       "      <td>ryan|\"higa\"|\"higatv\"|\"nigahiga\"|\"i dare you\"|\"...</td>\n",
       "      <td>2095731</td>\n",
       "      <td>132235</td>\n",
       "      <td>1989</td>\n",
       "      <td>17518</td>\n",
       "      <td>https://i.ytimg.com/vi/d380meD0W0M/default.jpg</td>\n",
       "      <td>False</td>\n",
       "      <td>False</td>\n",
       "      <td>False</td>\n",
       "    </tr>\n",
       "    <tr>\n",
       "      <th>5</th>\n",
       "      <td>gHZ1Qz0KiKM</td>\n",
       "      <td>17.14.11</td>\n",
       "      <td>2 Weeks with iPhone X</td>\n",
       "      <td>iJustine</td>\n",
       "      <td>28</td>\n",
       "      <td>2017-11-13T19:07:23.000Z</td>\n",
       "      <td>ijustine|\"week with iPhone X\"|\"iphone x\"|\"appl...</td>\n",
       "      <td>119180</td>\n",
       "      <td>9763</td>\n",
       "      <td>511</td>\n",
       "      <td>1434</td>\n",
       "      <td>https://i.ytimg.com/vi/gHZ1Qz0KiKM/default.jpg</td>\n",
       "      <td>False</td>\n",
       "      <td>False</td>\n",
       "      <td>False</td>\n",
       "    </tr>\n",
       "    <tr>\n",
       "      <th>6</th>\n",
       "      <td>39idVpFF7NQ</td>\n",
       "      <td>17.14.11</td>\n",
       "      <td>Roy Moore &amp; Jeff Sessions Cold Open - SNL</td>\n",
       "      <td>Saturday Night Live</td>\n",
       "      <td>24</td>\n",
       "      <td>2017-11-12T05:37:17.000Z</td>\n",
       "      <td>SNL|\"Saturday Night Live\"|\"SNL Season 43\"|\"Epi...</td>\n",
       "      <td>2103417</td>\n",
       "      <td>15993</td>\n",
       "      <td>2445</td>\n",
       "      <td>1970</td>\n",
       "      <td>https://i.ytimg.com/vi/39idVpFF7NQ/default.jpg</td>\n",
       "      <td>False</td>\n",
       "      <td>False</td>\n",
       "      <td>False</td>\n",
       "    </tr>\n",
       "    <tr>\n",
       "      <th>...</th>\n",
       "      <td>...</td>\n",
       "      <td>...</td>\n",
       "      <td>...</td>\n",
       "      <td>...</td>\n",
       "      <td>...</td>\n",
       "      <td>...</td>\n",
       "      <td>...</td>\n",
       "      <td>...</td>\n",
       "      <td>...</td>\n",
       "      <td>...</td>\n",
       "      <td>...</td>\n",
       "      <td>...</td>\n",
       "      <td>...</td>\n",
       "      <td>...</td>\n",
       "      <td>...</td>\n",
       "    </tr>\n",
       "    <tr>\n",
       "      <th>40932</th>\n",
       "      <td>tiF9SzzzX_o</td>\n",
       "      <td>18.14.06</td>\n",
       "      <td>The Voice 2018 Brynn Cartelli - Finale: Skyfall</td>\n",
       "      <td>The Voice</td>\n",
       "      <td>24</td>\n",
       "      <td>2018-05-22T02:34:39.000Z</td>\n",
       "      <td>the voice season 14|\"the voice finale performa...</td>\n",
       "      <td>1437051</td>\n",
       "      <td>19930</td>\n",
       "      <td>1794</td>\n",
       "      <td>1671</td>\n",
       "      <td>https://i.ytimg.com/vi/tiF9SzzzX_o/default.jpg</td>\n",
       "      <td>False</td>\n",
       "      <td>False</td>\n",
       "      <td>False</td>\n",
       "    </tr>\n",
       "    <tr>\n",
       "      <th>40933</th>\n",
       "      <td>Gs26bZTRkdU</td>\n",
       "      <td>18.14.06</td>\n",
       "      <td>8 Survival Myths That Will Definitely Make Thi...</td>\n",
       "      <td>SciShow</td>\n",
       "      <td>27</td>\n",
       "      <td>2018-05-20T21:00:00.000Z</td>\n",
       "      <td>SciShow|\"science\"|\"Hank\"|\"Green\"|\"education\"|\"...</td>\n",
       "      <td>979732</td>\n",
       "      <td>29038</td>\n",
       "      <td>1121</td>\n",
       "      <td>2584</td>\n",
       "      <td>https://i.ytimg.com/vi/Gs26bZTRkdU/default.jpg</td>\n",
       "      <td>False</td>\n",
       "      <td>False</td>\n",
       "      <td>False</td>\n",
       "    </tr>\n",
       "    <tr>\n",
       "      <th>40944</th>\n",
       "      <td>BZt0qjTWNhw</td>\n",
       "      <td>18.14.06</td>\n",
       "      <td>The Cat Who Caught the Laser</td>\n",
       "      <td>AaronsAnimals</td>\n",
       "      <td>15</td>\n",
       "      <td>2018-05-18T13:00:04.000Z</td>\n",
       "      <td>aarons animals|\"aarons\"|\"animals\"|\"cat\"|\"cats\"...</td>\n",
       "      <td>1685609</td>\n",
       "      <td>38160</td>\n",
       "      <td>1385</td>\n",
       "      <td>2657</td>\n",
       "      <td>https://i.ytimg.com/vi/BZt0qjTWNhw/default.jpg</td>\n",
       "      <td>False</td>\n",
       "      <td>False</td>\n",
       "      <td>False</td>\n",
       "    </tr>\n",
       "    <tr>\n",
       "      <th>40945</th>\n",
       "      <td>1h7KV2sjUWY</td>\n",
       "      <td>18.14.06</td>\n",
       "      <td>True Facts : Ant Mutualism</td>\n",
       "      <td>zefrank1</td>\n",
       "      <td>22</td>\n",
       "      <td>2018-05-18T01:00:06.000Z</td>\n",
       "      <td>[none]</td>\n",
       "      <td>1064798</td>\n",
       "      <td>60008</td>\n",
       "      <td>382</td>\n",
       "      <td>3936</td>\n",
       "      <td>https://i.ytimg.com/vi/1h7KV2sjUWY/default.jpg</td>\n",
       "      <td>False</td>\n",
       "      <td>False</td>\n",
       "      <td>False</td>\n",
       "    </tr>\n",
       "    <tr>\n",
       "      <th>40946</th>\n",
       "      <td>D6Oy4LfoqsU</td>\n",
       "      <td>18.14.06</td>\n",
       "      <td>I GAVE SAFIYA NYGAARD A PERFECT HAIR MAKEOVER ...</td>\n",
       "      <td>Brad Mondo</td>\n",
       "      <td>24</td>\n",
       "      <td>2018-05-18T17:34:22.000Z</td>\n",
       "      <td>I gave safiya nygaard a perfect hair makeover ...</td>\n",
       "      <td>1066451</td>\n",
       "      <td>48068</td>\n",
       "      <td>1032</td>\n",
       "      <td>3992</td>\n",
       "      <td>https://i.ytimg.com/vi/D6Oy4LfoqsU/default.jpg</td>\n",
       "      <td>False</td>\n",
       "      <td>False</td>\n",
       "      <td>False</td>\n",
       "    </tr>\n",
       "  </tbody>\n",
       "</table>\n",
       "<p>32209 rows × 15 columns</p>\n",
       "</div>"
      ],
      "text/plain": [
       "          video_id trending_date  \\\n",
       "0      2kyS6SvSYSE      17.14.11   \n",
       "3      puqaWrEC7tY      17.14.11   \n",
       "4      d380meD0W0M      17.14.11   \n",
       "5      gHZ1Qz0KiKM      17.14.11   \n",
       "6      39idVpFF7NQ      17.14.11   \n",
       "...            ...           ...   \n",
       "40932  tiF9SzzzX_o      18.14.06   \n",
       "40933  Gs26bZTRkdU      18.14.06   \n",
       "40944  BZt0qjTWNhw      18.14.06   \n",
       "40945  1h7KV2sjUWY      18.14.06   \n",
       "40946  D6Oy4LfoqsU      18.14.06   \n",
       "\n",
       "                                                   title  \\\n",
       "0                     WE WANT TO TALK ABOUT OUR MARRIAGE   \n",
       "3                       Nickelback Lyrics: Real or Fake?   \n",
       "4                               I Dare You: GOING BALD!?   \n",
       "5                                  2 Weeks with iPhone X   \n",
       "6              Roy Moore & Jeff Sessions Cold Open - SNL   \n",
       "...                                                  ...   \n",
       "40932    The Voice 2018 Brynn Cartelli - Finale: Skyfall   \n",
       "40933  8 Survival Myths That Will Definitely Make Thi...   \n",
       "40944                       The Cat Who Caught the Laser   \n",
       "40945                         True Facts : Ant Mutualism   \n",
       "40946  I GAVE SAFIYA NYGAARD A PERFECT HAIR MAKEOVER ...   \n",
       "\n",
       "               channel_title  category_id              publish_time  \\\n",
       "0               CaseyNeistat           22  2017-11-13T17:13:01.000Z   \n",
       "3      Good Mythical Morning           24  2017-11-13T11:00:04.000Z   \n",
       "4                   nigahiga           24  2017-11-12T18:01:41.000Z   \n",
       "5                   iJustine           28  2017-11-13T19:07:23.000Z   \n",
       "6        Saturday Night Live           24  2017-11-12T05:37:17.000Z   \n",
       "...                      ...          ...                       ...   \n",
       "40932              The Voice           24  2018-05-22T02:34:39.000Z   \n",
       "40933                SciShow           27  2018-05-20T21:00:00.000Z   \n",
       "40944          AaronsAnimals           15  2018-05-18T13:00:04.000Z   \n",
       "40945               zefrank1           22  2018-05-18T01:00:06.000Z   \n",
       "40946             Brad Mondo           24  2018-05-18T17:34:22.000Z   \n",
       "\n",
       "                                                    tags    views   likes  \\\n",
       "0                                        SHANtell martin   748374   57527   \n",
       "3      rhett and link|\"gmm\"|\"good mythical morning\"|\"...   343168   10172   \n",
       "4      ryan|\"higa\"|\"higatv\"|\"nigahiga\"|\"i dare you\"|\"...  2095731  132235   \n",
       "5      ijustine|\"week with iPhone X\"|\"iphone x\"|\"appl...   119180    9763   \n",
       "6      SNL|\"Saturday Night Live\"|\"SNL Season 43\"|\"Epi...  2103417   15993   \n",
       "...                                                  ...      ...     ...   \n",
       "40932  the voice season 14|\"the voice finale performa...  1437051   19930   \n",
       "40933  SciShow|\"science\"|\"Hank\"|\"Green\"|\"education\"|\"...   979732   29038   \n",
       "40944  aarons animals|\"aarons\"|\"animals\"|\"cat\"|\"cats\"...  1685609   38160   \n",
       "40945                                             [none]  1064798   60008   \n",
       "40946  I gave safiya nygaard a perfect hair makeover ...  1066451   48068   \n",
       "\n",
       "       dislikes  comment_count  \\\n",
       "0          2966          15954   \n",
       "3           666           2146   \n",
       "4          1989          17518   \n",
       "5           511           1434   \n",
       "6          2445           1970   \n",
       "...         ...            ...   \n",
       "40932      1794           1671   \n",
       "40933      1121           2584   \n",
       "40944      1385           2657   \n",
       "40945       382           3936   \n",
       "40946      1032           3992   \n",
       "\n",
       "                                       thumbnail_link  comments_disabled  \\\n",
       "0      https://i.ytimg.com/vi/2kyS6SvSYSE/default.jpg              False   \n",
       "3      https://i.ytimg.com/vi/puqaWrEC7tY/default.jpg              False   \n",
       "4      https://i.ytimg.com/vi/d380meD0W0M/default.jpg              False   \n",
       "5      https://i.ytimg.com/vi/gHZ1Qz0KiKM/default.jpg              False   \n",
       "6      https://i.ytimg.com/vi/39idVpFF7NQ/default.jpg              False   \n",
       "...                                               ...                ...   \n",
       "40932  https://i.ytimg.com/vi/tiF9SzzzX_o/default.jpg              False   \n",
       "40933  https://i.ytimg.com/vi/Gs26bZTRkdU/default.jpg              False   \n",
       "40944  https://i.ytimg.com/vi/BZt0qjTWNhw/default.jpg              False   \n",
       "40945  https://i.ytimg.com/vi/1h7KV2sjUWY/default.jpg              False   \n",
       "40946  https://i.ytimg.com/vi/D6Oy4LfoqsU/default.jpg              False   \n",
       "\n",
       "       ratings_disabled  video_error_or_removed  \n",
       "0                 False                   False  \n",
       "3                 False                   False  \n",
       "4                 False                   False  \n",
       "5                 False                   False  \n",
       "6                 False                   False  \n",
       "...                 ...                     ...  \n",
       "40932             False                   False  \n",
       "40933             False                   False  \n",
       "40944             False                   False  \n",
       "40945             False                   False  \n",
       "40946             False                   False  \n",
       "\n",
       "[32209 rows x 15 columns]"
      ]
     },
     "execution_count": 171,
     "metadata": {},
     "output_type": "execute_result"
    },
    {
     "data": {
      "image/png": "[encoded data removed]",
      "text/plain": [
       "<Figure size 720x432 with 1 Axes>"
      ]
     },
     "metadata": {
      "needs_background": "light"
     },
     "output_type": "display_data"
    }
   ],
   "source": [
    "#iternation 5\n",
    "Q1 =dataset.views.quantile(0.25)\n",
    "Q3 =dataset.views.quantile(0.75)\n",
    "Q1,Q3\n",
    "IQR=Q3-Q1\n",
    "IQR\n",
    "LM =Q1 - 1.5*IQR\n",
    "UM =Q3 + 1.5*IQR\n",
    "LM,UM\n",
    "dataset=dataset[(dataset.views>LM)&(dataset.views<UM)]\n",
    "dataset[['views']].boxplot(figsize = (10, 6))\n",
    "dataset"
   ]
  },
  {
   "cell_type": "code",
   "execution_count": 172,
   "metadata": {},
   "outputs": [
    {
     "data": {
      "text/plain": [
       "(29816, 15)"
      ]
     },
     "execution_count": 172,
     "metadata": {},
     "output_type": "execute_result"
    },
    {
     "data": {
      "image/png": "[encoded data removed]",
      "text/plain": [
       "<Figure size 720x432 with 1 Axes>"
      ]
     },
     "metadata": {
      "needs_background": "light"
     },
     "output_type": "display_data"
    }
   ],
   "source": [
    "#iternation 1 -- likes\n",
    "Q1 =dataset.likes.quantile(0.25)\n",
    "Q3 =dataset.likes.quantile(0.75)\n",
    "Q1,Q3\n",
    "IQR=Q3-Q1\n",
    "IQR\n",
    "LM =Q1 - 1.5*IQR\n",
    "UM =Q3 + 1.5*IQR\n",
    "LM,UM\n",
    "dataset=dataset[(dataset.likes>LM)&(dataset.likes<UM)]\n",
    "dataset[['likes']].boxplot(figsize = (10, 6))\n",
    "dataset.shape"
   ]
  },
  {
   "cell_type": "code",
   "execution_count": 173,
   "metadata": {},
   "outputs": [
    {
     "data": {
      "text/plain": [
       "(28645, 15)"
      ]
     },
     "execution_count": 173,
     "metadata": {},
     "output_type": "execute_result"
    },
    {
     "data": {
      "image/png": "[encoded data removed]",
      "text/plain": [
       "<Figure size 720x432 with 1 Axes>"
      ]
     },
     "metadata": {
      "needs_background": "light"
     },
     "output_type": "display_data"
    }
   ],
   "source": [
    "#iternation 2 -- likes\n",
    "Q1 =dataset.likes.quantile(0.25)\n",
    "Q3 =dataset.likes.quantile(0.75)\n",
    "Q1,Q3\n",
    "IQR=Q3-Q1\n",
    "IQR\n",
    "LM =Q1 - 1.5*IQR\n",
    "UM =Q3 + 1.5*IQR\n",
    "LM,UM\n",
    "dataset=dataset[(dataset.likes>LM)&(dataset.likes<UM)]\n",
    "dataset[['likes']].boxplot(figsize = (10, 6))\n",
    "dataset.shape"
   ]
  },
  {
   "cell_type": "code",
   "execution_count": 174,
   "metadata": {},
   "outputs": [
    {
     "data": {
      "text/plain": [
       "(28059, 15)"
      ]
     },
     "execution_count": 174,
     "metadata": {},
     "output_type": "execute_result"
    },
    {
     "data": {
      "image/png": "[encoded data removed]",
      "text/plain": [
       "<Figure size 720x432 with 1 Axes>"
      ]
     },
     "metadata": {
      "needs_background": "light"
     },
     "output_type": "display_data"
    }
   ],
   "source": [
    "#iternation 3 -- likes\n",
    "Q1 =dataset.likes.quantile(0.25)\n",
    "Q3 =dataset.likes.quantile(0.75)\n",
    "Q1,Q3\n",
    "IQR=Q3-Q1\n",
    "IQR\n",
    "LM =Q1 - 1.5*IQR\n",
    "UM =Q3 + 1.5*IQR\n",
    "LM,UM\n",
    "dataset=dataset[(dataset.likes>LM)&(dataset.likes<UM)]\n",
    "dataset[['likes']].boxplot(figsize = (10, 6))\n",
    "dataset.shape"
   ]
  },
  {
   "cell_type": "code",
   "execution_count": 175,
   "metadata": {},
   "outputs": [
    {
     "data": {
      "text/plain": [
       "(27780, 15)"
      ]
     },
     "execution_count": 175,
     "metadata": {},
     "output_type": "execute_result"
    },
    {
     "data": {
      "image/png": "[encoded data removed]",
      "text/plain": [
       "<Figure size 720x432 with 1 Axes>"
      ]
     },
     "metadata": {
      "needs_background": "light"
     },
     "output_type": "display_data"
    }
   ],
   "source": [
    "#iternation 4 -- likes\n",
    "Q1 =dataset.likes.quantile(0.25)\n",
    "Q3 =dataset.likes.quantile(0.75)\n",
    "Q1,Q3\n",
    "IQR=Q3-Q1\n",
    "IQR\n",
    "LM =Q1 - 1.5*IQR\n",
    "UM =Q3 + 1.5*IQR\n",
    "LM,UM\n",
    "dataset=dataset[(dataset.likes>LM)&(dataset.likes<UM)]\n",
    "dataset[['likes']].boxplot(figsize = (10, 6))\n",
    "dataset.shape"
   ]
  },
  {
   "cell_type": "code",
   "execution_count": 176,
   "metadata": {},
   "outputs": [
    {
     "data": {
      "text/plain": [
       "(25354, 15)"
      ]
     },
     "execution_count": 176,
     "metadata": {},
     "output_type": "execute_result"
    },
    {
     "data": {
      "image/png": "[encoded data removed]",
      "text/plain": [
       "<Figure size 720x432 with 1 Axes>"
      ]
     },
     "metadata": {
      "needs_background": "light"
     },
     "output_type": "display_data"
    }
   ],
   "source": [
    "#iternation 1 -- dislikes\n",
    "Q1 =dataset.dislikes.quantile(0.25)\n",
    "Q3 =dataset.dislikes.quantile(0.75)\n",
    "Q1,Q3\n",
    "IQR=Q3-Q1\n",
    "IQR\n",
    "LM =Q1 - 1.5*IQR\n",
    "UM =Q3 + 1.5*IQR\n",
    "LM,UM\n",
    "dataset=dataset[(dataset.dislikes>LM)&(dataset.dislikes<UM)]\n",
    "dataset[['dislikes']].boxplot(figsize = (10, 6))\n",
    "dataset.shape"
   ]
  },
  {
   "cell_type": "code",
   "execution_count": 177,
   "metadata": {},
   "outputs": [
    {
     "data": {
      "text/plain": [
       "(24275, 15)"
      ]
     },
     "execution_count": 177,
     "metadata": {},
     "output_type": "execute_result"
    },
    {
     "data": {
      "image/png": "[encoded data removed]",
      "text/plain": [
       "<Figure size 720x432 with 1 Axes>"
      ]
     },
     "metadata": {
      "needs_background": "light"
     },
     "output_type": "display_data"
    }
   ],
   "source": [
    "#iternation 2 -- dislikes\n",
    "Q1 =dataset.dislikes.quantile(0.25)\n",
    "Q3 =dataset.dislikes.quantile(0.75)\n",
    "Q1,Q3\n",
    "IQR=Q3-Q1\n",
    "IQR\n",
    "LM =Q1 - 1.5*IQR\n",
    "UM =Q3 + 1.5*IQR\n",
    "LM,UM\n",
    "dataset=dataset[(dataset.dislikes>LM)&(dataset.dislikes<UM)]\n",
    "dataset[['dislikes']].boxplot(figsize = (10, 6))\n",
    "dataset.shape"
   ]
  },
  {
   "cell_type": "code",
   "execution_count": 178,
   "metadata": {},
   "outputs": [
    {
     "data": {
      "text/plain": [
       "(23749, 15)"
      ]
     },
     "execution_count": 178,
     "metadata": {},
     "output_type": "execute_result"
    },
    {
     "data": {
      "image/png": "[encoded data removed]",
      "text/plain": [
       "<Figure size 720x432 with 1 Axes>"
      ]
     },
     "metadata": {
      "needs_background": "light"
     },
     "output_type": "display_data"
    }
   ],
   "source": [
    "#iternation 3 -- dislikes\n",
    "Q1 =dataset.dislikes.quantile(0.25)\n",
    "Q3 =dataset.dislikes.quantile(0.75)\n",
    "Q1,Q3\n",
    "IQR=Q3-Q1\n",
    "IQR\n",
    "LM =Q1 - 1.5*IQR\n",
    "UM =Q3 + 1.5*IQR\n",
    "LM,UM\n",
    "dataset=dataset[(dataset.dislikes>LM)&(dataset.dislikes<UM)]\n",
    "dataset[['dislikes']].boxplot(figsize = (10, 6))\n",
    "dataset.shape"
   ]
  },
  {
   "cell_type": "code",
   "execution_count": 179,
   "metadata": {},
   "outputs": [
    {
     "data": {
      "text/plain": [
       "(23503, 15)"
      ]
     },
     "execution_count": 179,
     "metadata": {},
     "output_type": "execute_result"
    },
    {
     "data": {
      "image/png": "[encoded data removed]",
      "text/plain": [
       "<Figure size 720x432 with 1 Axes>"
      ]
     },
     "metadata": {
      "needs_background": "light"
     },
     "output_type": "display_data"
    }
   ],
   "source": [
    "#iternation 4 -- dislikes\n",
    "Q1 =dataset.dislikes.quantile(0.25)\n",
    "Q3 =dataset.dislikes.quantile(0.75)\n",
    "Q1,Q3\n",
    "IQR=Q3-Q1\n",
    "IQR\n",
    "LM =Q1 - 1.5*IQR\n",
    "UM =Q3 + 1.5*IQR\n",
    "LM,UM\n",
    "dataset=dataset[(dataset.dislikes>LM)&(dataset.dislikes<UM)]\n",
    "dataset[['dislikes']].boxplot(figsize = (10, 6))\n",
    "dataset.shape"
   ]
  },
  {
   "cell_type": "code",
   "execution_count": 180,
   "metadata": {},
   "outputs": [
    {
     "data": {
      "text/plain": [
       "(22048, 15)"
      ]
     },
     "execution_count": 180,
     "metadata": {},
     "output_type": "execute_result"
    },
    {
     "data": {
      "image/png": "[encoded data removed]",
      "text/plain": [
       "<Figure size 720x432 with 1 Axes>"
      ]
     },
     "metadata": {
      "needs_background": "light"
     },
     "output_type": "display_data"
    }
   ],
   "source": [
    "#iternation 1 -- comment_count\n",
    "Q1 =dataset.comment_count.quantile(0.25)\n",
    "Q3 =dataset.comment_count.quantile(0.75)\n",
    "Q1,Q3\n",
    "\n",
    "IQR=Q3-Q1\n",
    "IQR\n",
    "\n",
    "LM =Q1 - 1.5*IQR\n",
    "UM =Q3 + 1.5*IQR\n",
    "LM,UM\n",
    "\n",
    "dataset=dataset[(dataset.comment_count>LM)&(dataset.comment_count<UM)]\n",
    "dataset[['comment_count']].boxplot(figsize = (10, 6))\n",
    "dataset.shape"
   ]
  },
  {
   "cell_type": "code",
   "execution_count": 181,
   "metadata": {},
   "outputs": [
    {
     "data": {
      "text/plain": [
       "(21625, 15)"
      ]
     },
     "execution_count": 181,
     "metadata": {},
     "output_type": "execute_result"
    },
    {
     "data": {
      "image/png": "[encoded data removed]",
      "text/plain": [
       "<Figure size 720x432 with 1 Axes>"
      ]
     },
     "metadata": {
      "needs_background": "light"
     },
     "output_type": "display_data"
    }
   ],
   "source": [
    "#iternation 2 -- comment_count\n",
    "Q1 =dataset.comment_count.quantile(0.25)\n",
    "Q3 =dataset.comment_count.quantile(0.75)\n",
    "Q1,Q3\n",
    "\n",
    "IQR=Q3-Q1\n",
    "IQR\n",
    "\n",
    "LM =Q1 - 1.5*IQR\n",
    "UM =Q3 + 1.5*IQR\n",
    "LM,UM\n",
    "\n",
    "dataset=dataset[(dataset.comment_count>LM)&(dataset.comment_count<UM)]\n",
    "dataset[['comment_count']].boxplot(figsize = (10, 6))\n",
    "dataset.shape"
   ]
  },
  {
   "cell_type": "code",
   "execution_count": 182,
   "metadata": {},
   "outputs": [
    {
     "data": {
      "text/plain": [
       "(21488, 15)"
      ]
     },
     "execution_count": 182,
     "metadata": {},
     "output_type": "execute_result"
    },
    {
     "data": {
      "image/png": "[encoded data removed]",
      "text/plain": [
       "<Figure size 720x432 with 1 Axes>"
      ]
     },
     "metadata": {
      "needs_background": "light"
     },
     "output_type": "display_data"
    }
   ],
   "source": [
    "#iternation 3 -- comment_count\n",
    "Q1 =dataset.comment_count.quantile(0.25)\n",
    "Q3 =dataset.comment_count.quantile(0.75)\n",
    "Q1,Q3\n",
    "\n",
    "IQR=Q3-Q1\n",
    "IQR\n",
    "\n",
    "LM =Q1 - 1.5*IQR\n",
    "UM =Q3 + 1.5*IQR\n",
    "LM,UM\n",
    "\n",
    "dataset=dataset[(dataset.comment_count>LM)&(dataset.comment_count<UM)]\n",
    "dataset[['comment_count']].boxplot(figsize = (10, 6))\n",
    "dataset.shape"
   ]
  },
  {
   "cell_type": "code",
   "execution_count": 183,
   "metadata": {},
   "outputs": [
    {
     "data": {
      "text/plain": [
       "(20169, 15)"
      ]
     },
     "execution_count": 183,
     "metadata": {},
     "output_type": "execute_result"
    },
    {
     "data": {
      "image/png": "[encoded data removed]",
      "text/plain": [
       "<Figure size 720x432 with 1 Axes>"
      ]
     },
     "metadata": {
      "needs_background": "light"
     },
     "output_type": "display_data"
    }
   ],
   "source": [
    "#iternation 1 -- category_id\n",
    "Q1 =dataset.category_id.quantile(0.25)\n",
    "Q3 =dataset.category_id.quantile(0.75)\n",
    "Q1,Q3\n",
    "\n",
    "IQR=Q3-Q1\n",
    "IQR\n",
    "\n",
    "LM =Q1 - 1.5*IQR\n",
    "UM =Q3 + 1.5*IQR\n",
    "LM,UM\n",
    "\n",
    "dataset=dataset[(dataset.category_id>LM)&(dataset.category_id<UM)]\n",
    "dataset[['category_id']].boxplot(figsize = (10, 6))\n",
    "dataset.shape"
   ]
  },
  {
   "cell_type": "code",
   "execution_count": 184,
   "metadata": {},
   "outputs": [],
   "source": [
    "#iternation 2 -- category_id\n",
    "#Q1 =dataset.category_id.quantile(0.25)\n",
    "#Q3 =dataset.category_id.quantile(0.75)\n",
    "#Q1,Q3\n",
    "\n",
    "#IQR=Q3-Q1\n",
    "#IQR\n",
    "\n",
    "#LM =Q1 - 1.5*IQR\n",
    "#UM =Q3 + 1.5*IQR\n",
    "#LM,UM\n",
    "\n",
    "#dataset=dataset[(dataset.category_id>LM)&(dataset.category_id<UM)]\n",
    "#dataset[['category_id']].boxplot(figsize = (10, 6))\n",
    "#dataset.shape"
   ]
  },
  {
   "cell_type": "code",
   "execution_count": 185,
   "metadata": {},
   "outputs": [],
   "source": [
    "#iternation 3 -- category_id\n",
    "#Q1 =dataset.category_id.quantile(0.25)\n",
    "#Q3 =dataset.category_id.quantile(0.75)\n",
    "#Q1,Q3\n",
    "\n",
    "#IQR=Q3-Q1\n",
    "#IQR\n",
    "\n",
    "#LM =Q1 - 1.5*IQR\n",
    "#UM =Q3 + 1.5*IQR\n",
    "##LM,UM\n",
    "\n",
    "#dataset=dataset[(dataset.category_id>LM)&(dataset.category_id<UM)]\n",
    "#dataset[['category_id']].boxplot(figsize = (10, 6))\n",
    "#dataset.shape"
   ]
  },
  {
   "cell_type": "code",
   "execution_count": 186,
   "metadata": {},
   "outputs": [],
   "source": [
    "dataset.to_csv(\"preprocessed.csv\", sep=',', index=False)"
   ]
  },
  {
   "cell_type": "code",
   "execution_count": null,
   "metadata": {},
   "outputs": [],
   "source": []
  }
 ],
 "metadata": {
  "kernelspec": {
   "display_name": "Python 3",
   "language": "python",
   "name": "python3"
  },
  "language_info": {
   "codemirror_mode": {
    "name": "ipython",
    "version": 3
   },
   "file_extension": ".py",
   "mimetype": "text/x-python",
   "name": "python",
   "nbconvert_exporter": "python",
   "pygments_lexer": "ipython3",
   "version": "3.8.5"
  }
 },
 "nbformat": 4,
 "nbformat_minor": 4
}
